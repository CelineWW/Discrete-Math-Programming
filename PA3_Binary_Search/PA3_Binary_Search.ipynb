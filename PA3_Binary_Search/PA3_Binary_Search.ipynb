{
 "cells": [
  {
   "cell_type": "code",
   "execution_count": 1,
   "metadata": {},
   "outputs": [],
   "source": [
    "# Create a funtion to retrieve the data\n",
    "import math\n",
    "def binary_search(list, search):\n",
    "    print(f'The list you entered is: \\t\\t {list}')\n",
    "    print(f'The number you want to search is: \\t {search}')\n",
    "    i = 0\n",
    "    j = 9 \n",
    "    while i < j:\n",
    "        m = math.floor((i + j) / 2)\n",
    "        if search > list[m]:\n",
    "            i = m + 1\n",
    "        else:\n",
    "            j = m\n",
    "    if search == list[i]:  \n",
    "        print(f\"The index of the number: {i + 1}\")\n",
    "        return i + 1\n",
    "    else:\n",
    "        print(f'The searching nubmer is not in the list')\n",
    "        return 0"
   ]
  },
  {
   "cell_type": "code",
   "execution_count": 3,
   "metadata": {},
   "outputs": [
    {
     "name": "stdout",
     "output_type": "stream",
     "text": [
      "[10, 20, 30, 40, 50, 60, 70, 80, 90, 100]\n"
     ]
    }
   ],
   "source": [
    "list1 = [int(no) for no in (input(\"Please enter 10 intergers in ascending order (with space to separate each numbers): \")).split(' ')]\n",
    "print(list1)"
   ]
  },
  {
   "cell_type": "code",
   "execution_count": 4,
   "metadata": {},
   "outputs": [
    {
     "name": "stdout",
     "output_type": "stream",
     "text": [
      "70\n"
     ]
    }
   ],
   "source": [
    "search1 = int(input(\"Please enter the number you want to search : \"))\n",
    "print(search1)"
   ]
  },
  {
   "cell_type": "code",
   "execution_count": 5,
   "metadata": {},
   "outputs": [
    {
     "name": "stdout",
     "output_type": "stream",
     "text": [
      "The list you entered is: \t\t [10, 20, 30, 40, 50, 60, 70, 80, 90, 100]\n",
      "The number you want to search is: \t 70\n",
      "The index of the number: 7\n"
     ]
    },
    {
     "data": {
      "text/plain": [
       "7"
      ]
     },
     "execution_count": 5,
     "metadata": {},
     "output_type": "execute_result"
    }
   ],
   "source": [
    "binary_search(list1, search1)"
   ]
  },
  {
   "cell_type": "code",
   "execution_count": 6,
   "metadata": {},
   "outputs": [
    {
     "name": "stdout",
     "output_type": "stream",
     "text": [
      "[11, 22, 33, 44, 55, 66, 77, 88, 99, 100]\n"
     ]
    }
   ],
   "source": [
    "list2 = [int(no) for no in (input(\"Please enter 10 intergers in ascending order (with space to separate each numbers): \")).split(' ')]\n",
    "print(list2)"
   ]
  },
  {
   "cell_type": "code",
   "execution_count": 7,
   "metadata": {},
   "outputs": [
    {
     "name": "stdout",
     "output_type": "stream",
     "text": [
      "44\n"
     ]
    }
   ],
   "source": [
    "search2 = int(input(\"Please enter the number you want to search : \"))\n",
    "print(search2)"
   ]
  },
  {
   "cell_type": "code",
   "execution_count": 8,
   "metadata": {},
   "outputs": [
    {
     "name": "stdout",
     "output_type": "stream",
     "text": [
      "The list you entered is: \t\t [11, 22, 33, 44, 55, 66, 77, 88, 99, 100]\n",
      "The number you want to search is: \t 44\n",
      "The index of the number: 4\n"
     ]
    },
    {
     "data": {
      "text/plain": [
       "4"
      ]
     },
     "execution_count": 8,
     "metadata": {},
     "output_type": "execute_result"
    }
   ],
   "source": [
    "binary_search(list2, search2)"
   ]
  },
  {
   "cell_type": "code",
   "execution_count": 9,
   "metadata": {},
   "outputs": [
    {
     "name": "stdout",
     "output_type": "stream",
     "text": [
      "[12, 23, 34, 45, 56, 67, 78, 89, 90, 1]\n"
     ]
    }
   ],
   "source": [
    "list3 = [int(no) for no in (input(\"Please enter 10 intergers in ascending order (with space to separate each numbers): \")).split(' ')]\n",
    "print(list3)"
   ]
  },
  {
   "cell_type": "code",
   "execution_count": 10,
   "metadata": {},
   "outputs": [
    {
     "name": "stdout",
     "output_type": "stream",
     "text": [
      "88\n"
     ]
    }
   ],
   "source": [
    "search3 = int(input(\"Please enter the number you want to search : \"))\n",
    "print(search3)"
   ]
  },
  {
   "cell_type": "code",
   "execution_count": 11,
   "metadata": {},
   "outputs": [
    {
     "name": "stdout",
     "output_type": "stream",
     "text": [
      "The list you entered is: \t\t [12, 23, 34, 45, 56, 67, 78, 89, 90, 1]\n",
      "The number you want to search is: \t 88\n",
      "The searching nubmer is not in the list\n"
     ]
    },
    {
     "data": {
      "text/plain": [
       "0"
      ]
     },
     "execution_count": 11,
     "metadata": {},
     "output_type": "execute_result"
    }
   ],
   "source": [
    "binary_search(list3, search3)"
   ]
  }
 ],
 "metadata": {
  "kernelspec": {
   "display_name": "Python 3",
   "language": "python",
   "name": "python3"
  },
  "language_info": {
   "codemirror_mode": {
    "name": "ipython",
    "version": 3
   },
   "file_extension": ".py",
   "mimetype": "text/x-python",
   "name": "python",
   "nbconvert_exporter": "python",
   "pygments_lexer": "ipython3",
   "version": "3.10.6"
  },
  "orig_nbformat": 4
 },
 "nbformat": 4,
 "nbformat_minor": 2
}
