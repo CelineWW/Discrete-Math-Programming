{
 "cells": [
  {
   "cell_type": "code",
   "execution_count": 19,
   "metadata": {},
   "outputs": [],
   "source": [
    "def propostional_logic(x, y):\n",
    "    print(\n",
    "        \"Enter the 1st truth value: \" + x + \"\\n\"\n",
    "        + \"Enter the 1st truth value: \" + y\n",
    "        )    \n",
    "\n",
    "    if x == \"T\" and y == \"T\":\n",
    "        z1 = \"F\"\n",
    "        z2 = \"T\"\n",
    "        z3 = \"T\"\n",
    "        z4 = \"T\"\n",
    "    elif x == \"T\" and y == \"F\":\n",
    "        z1 = \"F\"\n",
    "        z2 = \"T\"\n",
    "        z3 = \"F\"\n",
    "        z4 = \"F\"\n",
    "    elif x == \"F\" and y == \"T\":\n",
    "        z1 = \"T\"\n",
    "        z2 = \"T\"\n",
    "        z3 = \"F\"\n",
    "        z4 = \"T\" \n",
    "    else:  \n",
    "        z1 = \"T\"\n",
    "        z2 = \"F\"\n",
    "        z3 = \"F\"\n",
    "        z4 = \"T\" \n",
    "\n",
    "    print(\n",
    "        f\"~{x} = {z1}\\n\"\n",
    "        f\"~{x}v{y} = {z2}\\n\"\n",
    "        f\"~{x}^{y} = {z3}\\n\"\n",
    "        f\"~{x}-->{y} = {z4}\\n\"    \n",
    "    )\n",
    "    return"
   ]
  },
  {
   "cell_type": "code",
   "execution_count": 20,
   "metadata": {},
   "outputs": [
    {
     "name": "stdout",
     "output_type": "stream",
     "text": [
      "Enter the 1st truth value: T\n",
      "Enter the 1st truth value: T\n",
      "~T = F\n",
      "~TvT = T\n",
      "~T^T = T\n",
      "~T-->T = T\n",
      "\n"
     ]
    }
   ],
   "source": [
    "x = input(\"1st value: T or F?\")\n",
    "y = input(\"2nd value: T or F?\")\n",
    "propostional_logic(x, y)"
   ]
  }
 ],
 "metadata": {
  "kernelspec": {
   "display_name": "PythonData",
   "language": "python",
   "name": "python3"
  },
  "language_info": {
   "codemirror_mode": {
    "name": "ipython",
    "version": 3
   },
   "file_extension": ".py",
   "mimetype": "text/x-python",
   "name": "python",
   "nbconvert_exporter": "python",
   "pygments_lexer": "ipython3",
   "version": "3.9.13"
  },
  "orig_nbformat": 4
 },
 "nbformat": 4,
 "nbformat_minor": 2
}
